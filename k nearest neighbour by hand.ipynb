{
 "metadata": {
  "language_info": {
   "codemirror_mode": {
    "name": "ipython",
    "version": 3
   },
   "file_extension": ".py",
   "mimetype": "text/x-python",
   "name": "python",
   "nbconvert_exporter": "python",
   "pygments_lexer": "ipython3",
   "version": "3.9.5"
  },
  "orig_nbformat": 4,
  "kernelspec": {
   "name": "python3",
   "display_name": "Python 3.9.5 64-bit"
  },
  "interpreter": {
   "hash": "33dc6d49505b4536b6a128d9d7c879e1fa44477ad44947bbbe73093067fe6393"
  }
 },
 "nbformat": 4,
 "nbformat_minor": 2,
 "cells": [
  {
   "cell_type": "code",
   "execution_count": 1,
   "source": [
    "import numpy as np \r\n",
    "import pandas as pd  \r\n",
    "import matplotlib.pyplot as plt  \r\n",
    "import seaborn as sns"
   ],
   "outputs": [],
   "metadata": {}
  },
  {
   "cell_type": "code",
   "execution_count": 2,
   "source": [
    "df=pd.read_csv(\"Classified Data\",index_col=0)"
   ],
   "outputs": [],
   "metadata": {}
  },
  {
   "cell_type": "code",
   "execution_count": 3,
   "source": [
    "df.head()"
   ],
   "outputs": [
    {
     "output_type": "execute_result",
     "data": {
      "text/plain": [
       "        WTT       PTI       EQW       SBI       LQE       QWG       FDJ  \\\n",
       "0  0.913917  1.162073  0.567946  0.755464  0.780862  0.352608  0.759697   \n",
       "1  0.635632  1.003722  0.535342  0.825645  0.924109  0.648450  0.675334   \n",
       "2  0.721360  1.201493  0.921990  0.855595  1.526629  0.720781  1.626351   \n",
       "3  1.234204  1.386726  0.653046  0.825624  1.142504  0.875128  1.409708   \n",
       "4  1.279491  0.949750  0.627280  0.668976  1.232537  0.703727  1.115596   \n",
       "\n",
       "        PJF       HQE       NXJ  TARGET CLASS  \n",
       "0  0.643798  0.879422  1.231409             1  \n",
       "1  1.013546  0.621552  1.492702             0  \n",
       "2  1.154483  0.957877  1.285597             0  \n",
       "3  1.380003  1.522692  1.153093             1  \n",
       "4  0.646691  1.463812  1.419167             1  "
      ],
      "text/html": [
       "<div>\n",
       "<style scoped>\n",
       "    .dataframe tbody tr th:only-of-type {\n",
       "        vertical-align: middle;\n",
       "    }\n",
       "\n",
       "    .dataframe tbody tr th {\n",
       "        vertical-align: top;\n",
       "    }\n",
       "\n",
       "    .dataframe thead th {\n",
       "        text-align: right;\n",
       "    }\n",
       "</style>\n",
       "<table border=\"1\" class=\"dataframe\">\n",
       "  <thead>\n",
       "    <tr style=\"text-align: right;\">\n",
       "      <th></th>\n",
       "      <th>WTT</th>\n",
       "      <th>PTI</th>\n",
       "      <th>EQW</th>\n",
       "      <th>SBI</th>\n",
       "      <th>LQE</th>\n",
       "      <th>QWG</th>\n",
       "      <th>FDJ</th>\n",
       "      <th>PJF</th>\n",
       "      <th>HQE</th>\n",
       "      <th>NXJ</th>\n",
       "      <th>TARGET CLASS</th>\n",
       "    </tr>\n",
       "  </thead>\n",
       "  <tbody>\n",
       "    <tr>\n",
       "      <th>0</th>\n",
       "      <td>0.913917</td>\n",
       "      <td>1.162073</td>\n",
       "      <td>0.567946</td>\n",
       "      <td>0.755464</td>\n",
       "      <td>0.780862</td>\n",
       "      <td>0.352608</td>\n",
       "      <td>0.759697</td>\n",
       "      <td>0.643798</td>\n",
       "      <td>0.879422</td>\n",
       "      <td>1.231409</td>\n",
       "      <td>1</td>\n",
       "    </tr>\n",
       "    <tr>\n",
       "      <th>1</th>\n",
       "      <td>0.635632</td>\n",
       "      <td>1.003722</td>\n",
       "      <td>0.535342</td>\n",
       "      <td>0.825645</td>\n",
       "      <td>0.924109</td>\n",
       "      <td>0.648450</td>\n",
       "      <td>0.675334</td>\n",
       "      <td>1.013546</td>\n",
       "      <td>0.621552</td>\n",
       "      <td>1.492702</td>\n",
       "      <td>0</td>\n",
       "    </tr>\n",
       "    <tr>\n",
       "      <th>2</th>\n",
       "      <td>0.721360</td>\n",
       "      <td>1.201493</td>\n",
       "      <td>0.921990</td>\n",
       "      <td>0.855595</td>\n",
       "      <td>1.526629</td>\n",
       "      <td>0.720781</td>\n",
       "      <td>1.626351</td>\n",
       "      <td>1.154483</td>\n",
       "      <td>0.957877</td>\n",
       "      <td>1.285597</td>\n",
       "      <td>0</td>\n",
       "    </tr>\n",
       "    <tr>\n",
       "      <th>3</th>\n",
       "      <td>1.234204</td>\n",
       "      <td>1.386726</td>\n",
       "      <td>0.653046</td>\n",
       "      <td>0.825624</td>\n",
       "      <td>1.142504</td>\n",
       "      <td>0.875128</td>\n",
       "      <td>1.409708</td>\n",
       "      <td>1.380003</td>\n",
       "      <td>1.522692</td>\n",
       "      <td>1.153093</td>\n",
       "      <td>1</td>\n",
       "    </tr>\n",
       "    <tr>\n",
       "      <th>4</th>\n",
       "      <td>1.279491</td>\n",
       "      <td>0.949750</td>\n",
       "      <td>0.627280</td>\n",
       "      <td>0.668976</td>\n",
       "      <td>1.232537</td>\n",
       "      <td>0.703727</td>\n",
       "      <td>1.115596</td>\n",
       "      <td>0.646691</td>\n",
       "      <td>1.463812</td>\n",
       "      <td>1.419167</td>\n",
       "      <td>1</td>\n",
       "    </tr>\n",
       "  </tbody>\n",
       "</table>\n",
       "</div>"
      ]
     },
     "metadata": {},
     "execution_count": 3
    }
   ],
   "metadata": {}
  },
  {
   "cell_type": "code",
   "execution_count": 4,
   "source": [
    "train, validate, test = \\\r\n",
    "              np.split(df.sample(frac=1, random_state=42), \r\n",
    "                       [int(.7*len(df)), int(.8*len(df))])\r\n"
   ],
   "outputs": [],
   "metadata": {}
  },
  {
   "cell_type": "code",
   "execution_count": 5,
   "source": [
    "train"
   ],
   "outputs": [
    {
     "output_type": "execute_result",
     "data": {
      "text/plain": [
       "          WTT       PTI       EQW       SBI       LQE       QWG       FDJ  \\\n",
       "521  0.706301  1.521178  1.130807  0.403439  0.896746  0.915857  1.070145   \n",
       "737  1.349657  1.220334  0.705862  0.814357  0.669917  0.672000  0.746755   \n",
       "740  1.316901  1.148649  1.043306  0.901919  0.944360  1.108771  0.313242   \n",
       "660  1.213682  1.002936  0.450822  0.920180  0.802730  0.666668  0.502487   \n",
       "411  0.944678  1.304373  0.927769  0.659969  0.972685  1.120810  1.093775   \n",
       "..        ...       ...       ...       ...       ...       ...       ...   \n",
       "262  1.111199  1.188951  0.432681  0.623778  1.015169  0.656881  1.210616   \n",
       "610  1.168325  0.935957  0.440775  0.745760  1.253084  1.054081  0.920956   \n",
       "297  0.828678  1.529803  1.017778  0.845642  1.176363  0.887919  1.182898   \n",
       "414  0.464604  1.040956  0.680090  0.749020  1.389912  1.277485  1.348104   \n",
       "150  0.788273  0.799901  0.439829  0.595287  0.838064  0.973746  1.379606   \n",
       "\n",
       "          PJF       HQE       NXJ  TARGET CLASS  \n",
       "521  1.215032  1.038505  1.445797             0  \n",
       "737  0.540717  1.431993  1.173153             1  \n",
       "740  0.810703  1.034355  1.585154             1  \n",
       "660  1.237751  1.249506  1.360611             1  \n",
       "411  1.012271  1.104137  1.865060             0  \n",
       "..        ...       ...       ...           ...  \n",
       "262  0.874217  1.258288  1.493644             1  \n",
       "610  0.784622  1.661304  1.182370             1  \n",
       "297  1.472502  0.923590  1.599667             0  \n",
       "414  1.275045  0.720187  1.205402             0  \n",
       "150  0.949946  1.511934  1.044194             1  \n",
       "\n",
       "[700 rows x 11 columns]"
      ],
      "text/html": [
       "<div>\n",
       "<style scoped>\n",
       "    .dataframe tbody tr th:only-of-type {\n",
       "        vertical-align: middle;\n",
       "    }\n",
       "\n",
       "    .dataframe tbody tr th {\n",
       "        vertical-align: top;\n",
       "    }\n",
       "\n",
       "    .dataframe thead th {\n",
       "        text-align: right;\n",
       "    }\n",
       "</style>\n",
       "<table border=\"1\" class=\"dataframe\">\n",
       "  <thead>\n",
       "    <tr style=\"text-align: right;\">\n",
       "      <th></th>\n",
       "      <th>WTT</th>\n",
       "      <th>PTI</th>\n",
       "      <th>EQW</th>\n",
       "      <th>SBI</th>\n",
       "      <th>LQE</th>\n",
       "      <th>QWG</th>\n",
       "      <th>FDJ</th>\n",
       "      <th>PJF</th>\n",
       "      <th>HQE</th>\n",
       "      <th>NXJ</th>\n",
       "      <th>TARGET CLASS</th>\n",
       "    </tr>\n",
       "  </thead>\n",
       "  <tbody>\n",
       "    <tr>\n",
       "      <th>521</th>\n",
       "      <td>0.706301</td>\n",
       "      <td>1.521178</td>\n",
       "      <td>1.130807</td>\n",
       "      <td>0.403439</td>\n",
       "      <td>0.896746</td>\n",
       "      <td>0.915857</td>\n",
       "      <td>1.070145</td>\n",
       "      <td>1.215032</td>\n",
       "      <td>1.038505</td>\n",
       "      <td>1.445797</td>\n",
       "      <td>0</td>\n",
       "    </tr>\n",
       "    <tr>\n",
       "      <th>737</th>\n",
       "      <td>1.349657</td>\n",
       "      <td>1.220334</td>\n",
       "      <td>0.705862</td>\n",
       "      <td>0.814357</td>\n",
       "      <td>0.669917</td>\n",
       "      <td>0.672000</td>\n",
       "      <td>0.746755</td>\n",
       "      <td>0.540717</td>\n",
       "      <td>1.431993</td>\n",
       "      <td>1.173153</td>\n",
       "      <td>1</td>\n",
       "    </tr>\n",
       "    <tr>\n",
       "      <th>740</th>\n",
       "      <td>1.316901</td>\n",
       "      <td>1.148649</td>\n",
       "      <td>1.043306</td>\n",
       "      <td>0.901919</td>\n",
       "      <td>0.944360</td>\n",
       "      <td>1.108771</td>\n",
       "      <td>0.313242</td>\n",
       "      <td>0.810703</td>\n",
       "      <td>1.034355</td>\n",
       "      <td>1.585154</td>\n",
       "      <td>1</td>\n",
       "    </tr>\n",
       "    <tr>\n",
       "      <th>660</th>\n",
       "      <td>1.213682</td>\n",
       "      <td>1.002936</td>\n",
       "      <td>0.450822</td>\n",
       "      <td>0.920180</td>\n",
       "      <td>0.802730</td>\n",
       "      <td>0.666668</td>\n",
       "      <td>0.502487</td>\n",
       "      <td>1.237751</td>\n",
       "      <td>1.249506</td>\n",
       "      <td>1.360611</td>\n",
       "      <td>1</td>\n",
       "    </tr>\n",
       "    <tr>\n",
       "      <th>411</th>\n",
       "      <td>0.944678</td>\n",
       "      <td>1.304373</td>\n",
       "      <td>0.927769</td>\n",
       "      <td>0.659969</td>\n",
       "      <td>0.972685</td>\n",
       "      <td>1.120810</td>\n",
       "      <td>1.093775</td>\n",
       "      <td>1.012271</td>\n",
       "      <td>1.104137</td>\n",
       "      <td>1.865060</td>\n",
       "      <td>0</td>\n",
       "    </tr>\n",
       "    <tr>\n",
       "      <th>...</th>\n",
       "      <td>...</td>\n",
       "      <td>...</td>\n",
       "      <td>...</td>\n",
       "      <td>...</td>\n",
       "      <td>...</td>\n",
       "      <td>...</td>\n",
       "      <td>...</td>\n",
       "      <td>...</td>\n",
       "      <td>...</td>\n",
       "      <td>...</td>\n",
       "      <td>...</td>\n",
       "    </tr>\n",
       "    <tr>\n",
       "      <th>262</th>\n",
       "      <td>1.111199</td>\n",
       "      <td>1.188951</td>\n",
       "      <td>0.432681</td>\n",
       "      <td>0.623778</td>\n",
       "      <td>1.015169</td>\n",
       "      <td>0.656881</td>\n",
       "      <td>1.210616</td>\n",
       "      <td>0.874217</td>\n",
       "      <td>1.258288</td>\n",
       "      <td>1.493644</td>\n",
       "      <td>1</td>\n",
       "    </tr>\n",
       "    <tr>\n",
       "      <th>610</th>\n",
       "      <td>1.168325</td>\n",
       "      <td>0.935957</td>\n",
       "      <td>0.440775</td>\n",
       "      <td>0.745760</td>\n",
       "      <td>1.253084</td>\n",
       "      <td>1.054081</td>\n",
       "      <td>0.920956</td>\n",
       "      <td>0.784622</td>\n",
       "      <td>1.661304</td>\n",
       "      <td>1.182370</td>\n",
       "      <td>1</td>\n",
       "    </tr>\n",
       "    <tr>\n",
       "      <th>297</th>\n",
       "      <td>0.828678</td>\n",
       "      <td>1.529803</td>\n",
       "      <td>1.017778</td>\n",
       "      <td>0.845642</td>\n",
       "      <td>1.176363</td>\n",
       "      <td>0.887919</td>\n",
       "      <td>1.182898</td>\n",
       "      <td>1.472502</td>\n",
       "      <td>0.923590</td>\n",
       "      <td>1.599667</td>\n",
       "      <td>0</td>\n",
       "    </tr>\n",
       "    <tr>\n",
       "      <th>414</th>\n",
       "      <td>0.464604</td>\n",
       "      <td>1.040956</td>\n",
       "      <td>0.680090</td>\n",
       "      <td>0.749020</td>\n",
       "      <td>1.389912</td>\n",
       "      <td>1.277485</td>\n",
       "      <td>1.348104</td>\n",
       "      <td>1.275045</td>\n",
       "      <td>0.720187</td>\n",
       "      <td>1.205402</td>\n",
       "      <td>0</td>\n",
       "    </tr>\n",
       "    <tr>\n",
       "      <th>150</th>\n",
       "      <td>0.788273</td>\n",
       "      <td>0.799901</td>\n",
       "      <td>0.439829</td>\n",
       "      <td>0.595287</td>\n",
       "      <td>0.838064</td>\n",
       "      <td>0.973746</td>\n",
       "      <td>1.379606</td>\n",
       "      <td>0.949946</td>\n",
       "      <td>1.511934</td>\n",
       "      <td>1.044194</td>\n",
       "      <td>1</td>\n",
       "    </tr>\n",
       "  </tbody>\n",
       "</table>\n",
       "<p>700 rows × 11 columns</p>\n",
       "</div>"
      ]
     },
     "metadata": {},
     "execution_count": 5
    }
   ],
   "metadata": {}
  },
  {
   "cell_type": "code",
   "execution_count": 6,
   "source": [
    "test"
   ],
   "outputs": [
    {
     "output_type": "execute_result",
     "data": {
      "text/plain": [
       "          WTT       PTI       EQW       SBI       LQE       QWG       FDJ  \\\n",
       "556  0.950636  0.980417  0.570243  0.965252  0.621909  1.057732  0.921973   \n",
       "957  1.120153  0.965870  0.492431  1.012208  0.935764  0.714226  0.526586   \n",
       "577  1.434332  1.192172  0.370503  0.945473  1.122010  0.752169  0.856648   \n",
       "795  0.811046  1.480748  1.100853  1.048537  0.986844  0.966104  1.060404   \n",
       "85   0.762773  1.500367  1.162253  0.588193  1.215805  1.151806  0.908897   \n",
       "..        ...       ...       ...       ...       ...       ...       ...   \n",
       "106  0.376896  1.236557  0.710967  0.421696  0.933536  1.289631  0.804915   \n",
       "270  1.013631  1.291556  0.734136  0.526161  0.819597  0.672814  1.143501   \n",
       "860  0.652803  1.433386  0.938615  0.732678  1.479617  0.917117  1.046303   \n",
       "435  1.206852  1.320495  0.600284  0.690413  0.932337  0.677138  0.655818   \n",
       "102  1.234623  1.593329  0.528663  0.549877  1.101375  0.782282  1.092101   \n",
       "\n",
       "          PJF       HQE       NXJ  TARGET CLASS  \n",
       "556  0.526893  1.420366  1.508301             1  \n",
       "957  0.969353  1.513691  1.389733             1  \n",
       "577  0.723561  1.002253  1.449340             1  \n",
       "795  1.629520  1.157204  1.542836             0  \n",
       "85   0.996191  0.768384  1.604870             0  \n",
       "..        ...       ...       ...           ...  \n",
       "106  1.002152  0.902855  0.955232             0  \n",
       "270  0.924833  1.488525  1.463797             1  \n",
       "860  1.110251  0.714697  1.532731             0  \n",
       "435  1.092525  0.761527  1.553324             1  \n",
       "102  0.962992  1.090156  1.304113             1  \n",
       "\n",
       "[200 rows x 11 columns]"
      ],
      "text/html": [
       "<div>\n",
       "<style scoped>\n",
       "    .dataframe tbody tr th:only-of-type {\n",
       "        vertical-align: middle;\n",
       "    }\n",
       "\n",
       "    .dataframe tbody tr th {\n",
       "        vertical-align: top;\n",
       "    }\n",
       "\n",
       "    .dataframe thead th {\n",
       "        text-align: right;\n",
       "    }\n",
       "</style>\n",
       "<table border=\"1\" class=\"dataframe\">\n",
       "  <thead>\n",
       "    <tr style=\"text-align: right;\">\n",
       "      <th></th>\n",
       "      <th>WTT</th>\n",
       "      <th>PTI</th>\n",
       "      <th>EQW</th>\n",
       "      <th>SBI</th>\n",
       "      <th>LQE</th>\n",
       "      <th>QWG</th>\n",
       "      <th>FDJ</th>\n",
       "      <th>PJF</th>\n",
       "      <th>HQE</th>\n",
       "      <th>NXJ</th>\n",
       "      <th>TARGET CLASS</th>\n",
       "    </tr>\n",
       "  </thead>\n",
       "  <tbody>\n",
       "    <tr>\n",
       "      <th>556</th>\n",
       "      <td>0.950636</td>\n",
       "      <td>0.980417</td>\n",
       "      <td>0.570243</td>\n",
       "      <td>0.965252</td>\n",
       "      <td>0.621909</td>\n",
       "      <td>1.057732</td>\n",
       "      <td>0.921973</td>\n",
       "      <td>0.526893</td>\n",
       "      <td>1.420366</td>\n",
       "      <td>1.508301</td>\n",
       "      <td>1</td>\n",
       "    </tr>\n",
       "    <tr>\n",
       "      <th>957</th>\n",
       "      <td>1.120153</td>\n",
       "      <td>0.965870</td>\n",
       "      <td>0.492431</td>\n",
       "      <td>1.012208</td>\n",
       "      <td>0.935764</td>\n",
       "      <td>0.714226</td>\n",
       "      <td>0.526586</td>\n",
       "      <td>0.969353</td>\n",
       "      <td>1.513691</td>\n",
       "      <td>1.389733</td>\n",
       "      <td>1</td>\n",
       "    </tr>\n",
       "    <tr>\n",
       "      <th>577</th>\n",
       "      <td>1.434332</td>\n",
       "      <td>1.192172</td>\n",
       "      <td>0.370503</td>\n",
       "      <td>0.945473</td>\n",
       "      <td>1.122010</td>\n",
       "      <td>0.752169</td>\n",
       "      <td>0.856648</td>\n",
       "      <td>0.723561</td>\n",
       "      <td>1.002253</td>\n",
       "      <td>1.449340</td>\n",
       "      <td>1</td>\n",
       "    </tr>\n",
       "    <tr>\n",
       "      <th>795</th>\n",
       "      <td>0.811046</td>\n",
       "      <td>1.480748</td>\n",
       "      <td>1.100853</td>\n",
       "      <td>1.048537</td>\n",
       "      <td>0.986844</td>\n",
       "      <td>0.966104</td>\n",
       "      <td>1.060404</td>\n",
       "      <td>1.629520</td>\n",
       "      <td>1.157204</td>\n",
       "      <td>1.542836</td>\n",
       "      <td>0</td>\n",
       "    </tr>\n",
       "    <tr>\n",
       "      <th>85</th>\n",
       "      <td>0.762773</td>\n",
       "      <td>1.500367</td>\n",
       "      <td>1.162253</td>\n",
       "      <td>0.588193</td>\n",
       "      <td>1.215805</td>\n",
       "      <td>1.151806</td>\n",
       "      <td>0.908897</td>\n",
       "      <td>0.996191</td>\n",
       "      <td>0.768384</td>\n",
       "      <td>1.604870</td>\n",
       "      <td>0</td>\n",
       "    </tr>\n",
       "    <tr>\n",
       "      <th>...</th>\n",
       "      <td>...</td>\n",
       "      <td>...</td>\n",
       "      <td>...</td>\n",
       "      <td>...</td>\n",
       "      <td>...</td>\n",
       "      <td>...</td>\n",
       "      <td>...</td>\n",
       "      <td>...</td>\n",
       "      <td>...</td>\n",
       "      <td>...</td>\n",
       "      <td>...</td>\n",
       "    </tr>\n",
       "    <tr>\n",
       "      <th>106</th>\n",
       "      <td>0.376896</td>\n",
       "      <td>1.236557</td>\n",
       "      <td>0.710967</td>\n",
       "      <td>0.421696</td>\n",
       "      <td>0.933536</td>\n",
       "      <td>1.289631</td>\n",
       "      <td>0.804915</td>\n",
       "      <td>1.002152</td>\n",
       "      <td>0.902855</td>\n",
       "      <td>0.955232</td>\n",
       "      <td>0</td>\n",
       "    </tr>\n",
       "    <tr>\n",
       "      <th>270</th>\n",
       "      <td>1.013631</td>\n",
       "      <td>1.291556</td>\n",
       "      <td>0.734136</td>\n",
       "      <td>0.526161</td>\n",
       "      <td>0.819597</td>\n",
       "      <td>0.672814</td>\n",
       "      <td>1.143501</td>\n",
       "      <td>0.924833</td>\n",
       "      <td>1.488525</td>\n",
       "      <td>1.463797</td>\n",
       "      <td>1</td>\n",
       "    </tr>\n",
       "    <tr>\n",
       "      <th>860</th>\n",
       "      <td>0.652803</td>\n",
       "      <td>1.433386</td>\n",
       "      <td>0.938615</td>\n",
       "      <td>0.732678</td>\n",
       "      <td>1.479617</td>\n",
       "      <td>0.917117</td>\n",
       "      <td>1.046303</td>\n",
       "      <td>1.110251</td>\n",
       "      <td>0.714697</td>\n",
       "      <td>1.532731</td>\n",
       "      <td>0</td>\n",
       "    </tr>\n",
       "    <tr>\n",
       "      <th>435</th>\n",
       "      <td>1.206852</td>\n",
       "      <td>1.320495</td>\n",
       "      <td>0.600284</td>\n",
       "      <td>0.690413</td>\n",
       "      <td>0.932337</td>\n",
       "      <td>0.677138</td>\n",
       "      <td>0.655818</td>\n",
       "      <td>1.092525</td>\n",
       "      <td>0.761527</td>\n",
       "      <td>1.553324</td>\n",
       "      <td>1</td>\n",
       "    </tr>\n",
       "    <tr>\n",
       "      <th>102</th>\n",
       "      <td>1.234623</td>\n",
       "      <td>1.593329</td>\n",
       "      <td>0.528663</td>\n",
       "      <td>0.549877</td>\n",
       "      <td>1.101375</td>\n",
       "      <td>0.782282</td>\n",
       "      <td>1.092101</td>\n",
       "      <td>0.962992</td>\n",
       "      <td>1.090156</td>\n",
       "      <td>1.304113</td>\n",
       "      <td>1</td>\n",
       "    </tr>\n",
       "  </tbody>\n",
       "</table>\n",
       "<p>200 rows × 11 columns</p>\n",
       "</div>"
      ]
     },
     "metadata": {},
     "execution_count": 6
    }
   ],
   "metadata": {}
  },
  {
   "cell_type": "code",
   "execution_count": 7,
   "source": [
    "validate"
   ],
   "outputs": [
    {
     "output_type": "execute_result",
     "data": {
      "text/plain": [
       "          WTT       PTI       EQW       SBI       LQE       QWG       FDJ  \\\n",
       "788  1.192052  0.837862  0.366352  0.379409  0.961595  0.997584  0.883893   \n",
       "640  1.064098  0.576749  0.431665  0.662955  0.929977  0.687321  0.745539   \n",
       "889  0.932442  1.192717  1.197899  0.622327  0.765661  0.666391  0.883328   \n",
       "550  0.650697  1.505495  0.832280  0.657536  1.571047  0.725093  0.844154   \n",
       "886  1.311330  0.815129  0.994648  0.327028  1.415480  0.986276  1.208203   \n",
       "..        ...       ...       ...       ...       ...       ...       ...   \n",
       "619  1.001727  0.944485  0.228333  0.966832  1.031153  0.647854  0.652480   \n",
       "855  1.230199  0.983501  0.706559  0.857323  1.104094  0.262389  0.813470   \n",
       "803  1.176648  0.781839  0.718235  0.857380  0.592548  0.922432  0.854116   \n",
       "645  1.292989  1.120908  0.713135  0.472551  0.976126  0.934236  1.044393   \n",
       "846  0.892886  1.401147  0.937499  1.108560  1.101372  1.367497  0.622170   \n",
       "\n",
       "          PJF       HQE       NXJ  TARGET CLASS  \n",
       "788  1.087886  1.291235  1.206593             1  \n",
       "640  0.876669  1.220303  1.385981             1  \n",
       "889  1.359787  0.694086  1.611264             0  \n",
       "550  1.069106  1.194885  1.091317             0  \n",
       "886  1.414017  1.167224  0.978984             0  \n",
       "..        ...       ...       ...           ...  \n",
       "619  0.896069  1.232854  1.299291             1  \n",
       "855  0.824307  1.439552  1.162783             1  \n",
       "803  0.712103  1.626032  1.391603             1  \n",
       "645  1.001755  1.598502  1.417098             1  \n",
       "846  1.377945  0.851598  1.599136             0  \n",
       "\n",
       "[100 rows x 11 columns]"
      ],
      "text/html": [
       "<div>\n",
       "<style scoped>\n",
       "    .dataframe tbody tr th:only-of-type {\n",
       "        vertical-align: middle;\n",
       "    }\n",
       "\n",
       "    .dataframe tbody tr th {\n",
       "        vertical-align: top;\n",
       "    }\n",
       "\n",
       "    .dataframe thead th {\n",
       "        text-align: right;\n",
       "    }\n",
       "</style>\n",
       "<table border=\"1\" class=\"dataframe\">\n",
       "  <thead>\n",
       "    <tr style=\"text-align: right;\">\n",
       "      <th></th>\n",
       "      <th>WTT</th>\n",
       "      <th>PTI</th>\n",
       "      <th>EQW</th>\n",
       "      <th>SBI</th>\n",
       "      <th>LQE</th>\n",
       "      <th>QWG</th>\n",
       "      <th>FDJ</th>\n",
       "      <th>PJF</th>\n",
       "      <th>HQE</th>\n",
       "      <th>NXJ</th>\n",
       "      <th>TARGET CLASS</th>\n",
       "    </tr>\n",
       "  </thead>\n",
       "  <tbody>\n",
       "    <tr>\n",
       "      <th>788</th>\n",
       "      <td>1.192052</td>\n",
       "      <td>0.837862</td>\n",
       "      <td>0.366352</td>\n",
       "      <td>0.379409</td>\n",
       "      <td>0.961595</td>\n",
       "      <td>0.997584</td>\n",
       "      <td>0.883893</td>\n",
       "      <td>1.087886</td>\n",
       "      <td>1.291235</td>\n",
       "      <td>1.206593</td>\n",
       "      <td>1</td>\n",
       "    </tr>\n",
       "    <tr>\n",
       "      <th>640</th>\n",
       "      <td>1.064098</td>\n",
       "      <td>0.576749</td>\n",
       "      <td>0.431665</td>\n",
       "      <td>0.662955</td>\n",
       "      <td>0.929977</td>\n",
       "      <td>0.687321</td>\n",
       "      <td>0.745539</td>\n",
       "      <td>0.876669</td>\n",
       "      <td>1.220303</td>\n",
       "      <td>1.385981</td>\n",
       "      <td>1</td>\n",
       "    </tr>\n",
       "    <tr>\n",
       "      <th>889</th>\n",
       "      <td>0.932442</td>\n",
       "      <td>1.192717</td>\n",
       "      <td>1.197899</td>\n",
       "      <td>0.622327</td>\n",
       "      <td>0.765661</td>\n",
       "      <td>0.666391</td>\n",
       "      <td>0.883328</td>\n",
       "      <td>1.359787</td>\n",
       "      <td>0.694086</td>\n",
       "      <td>1.611264</td>\n",
       "      <td>0</td>\n",
       "    </tr>\n",
       "    <tr>\n",
       "      <th>550</th>\n",
       "      <td>0.650697</td>\n",
       "      <td>1.505495</td>\n",
       "      <td>0.832280</td>\n",
       "      <td>0.657536</td>\n",
       "      <td>1.571047</td>\n",
       "      <td>0.725093</td>\n",
       "      <td>0.844154</td>\n",
       "      <td>1.069106</td>\n",
       "      <td>1.194885</td>\n",
       "      <td>1.091317</td>\n",
       "      <td>0</td>\n",
       "    </tr>\n",
       "    <tr>\n",
       "      <th>886</th>\n",
       "      <td>1.311330</td>\n",
       "      <td>0.815129</td>\n",
       "      <td>0.994648</td>\n",
       "      <td>0.327028</td>\n",
       "      <td>1.415480</td>\n",
       "      <td>0.986276</td>\n",
       "      <td>1.208203</td>\n",
       "      <td>1.414017</td>\n",
       "      <td>1.167224</td>\n",
       "      <td>0.978984</td>\n",
       "      <td>0</td>\n",
       "    </tr>\n",
       "    <tr>\n",
       "      <th>...</th>\n",
       "      <td>...</td>\n",
       "      <td>...</td>\n",
       "      <td>...</td>\n",
       "      <td>...</td>\n",
       "      <td>...</td>\n",
       "      <td>...</td>\n",
       "      <td>...</td>\n",
       "      <td>...</td>\n",
       "      <td>...</td>\n",
       "      <td>...</td>\n",
       "      <td>...</td>\n",
       "    </tr>\n",
       "    <tr>\n",
       "      <th>619</th>\n",
       "      <td>1.001727</td>\n",
       "      <td>0.944485</td>\n",
       "      <td>0.228333</td>\n",
       "      <td>0.966832</td>\n",
       "      <td>1.031153</td>\n",
       "      <td>0.647854</td>\n",
       "      <td>0.652480</td>\n",
       "      <td>0.896069</td>\n",
       "      <td>1.232854</td>\n",
       "      <td>1.299291</td>\n",
       "      <td>1</td>\n",
       "    </tr>\n",
       "    <tr>\n",
       "      <th>855</th>\n",
       "      <td>1.230199</td>\n",
       "      <td>0.983501</td>\n",
       "      <td>0.706559</td>\n",
       "      <td>0.857323</td>\n",
       "      <td>1.104094</td>\n",
       "      <td>0.262389</td>\n",
       "      <td>0.813470</td>\n",
       "      <td>0.824307</td>\n",
       "      <td>1.439552</td>\n",
       "      <td>1.162783</td>\n",
       "      <td>1</td>\n",
       "    </tr>\n",
       "    <tr>\n",
       "      <th>803</th>\n",
       "      <td>1.176648</td>\n",
       "      <td>0.781839</td>\n",
       "      <td>0.718235</td>\n",
       "      <td>0.857380</td>\n",
       "      <td>0.592548</td>\n",
       "      <td>0.922432</td>\n",
       "      <td>0.854116</td>\n",
       "      <td>0.712103</td>\n",
       "      <td>1.626032</td>\n",
       "      <td>1.391603</td>\n",
       "      <td>1</td>\n",
       "    </tr>\n",
       "    <tr>\n",
       "      <th>645</th>\n",
       "      <td>1.292989</td>\n",
       "      <td>1.120908</td>\n",
       "      <td>0.713135</td>\n",
       "      <td>0.472551</td>\n",
       "      <td>0.976126</td>\n",
       "      <td>0.934236</td>\n",
       "      <td>1.044393</td>\n",
       "      <td>1.001755</td>\n",
       "      <td>1.598502</td>\n",
       "      <td>1.417098</td>\n",
       "      <td>1</td>\n",
       "    </tr>\n",
       "    <tr>\n",
       "      <th>846</th>\n",
       "      <td>0.892886</td>\n",
       "      <td>1.401147</td>\n",
       "      <td>0.937499</td>\n",
       "      <td>1.108560</td>\n",
       "      <td>1.101372</td>\n",
       "      <td>1.367497</td>\n",
       "      <td>0.622170</td>\n",
       "      <td>1.377945</td>\n",
       "      <td>0.851598</td>\n",
       "      <td>1.599136</td>\n",
       "      <td>0</td>\n",
       "    </tr>\n",
       "  </tbody>\n",
       "</table>\n",
       "<p>100 rows × 11 columns</p>\n",
       "</div>"
      ]
     },
     "metadata": {},
     "execution_count": 7
    }
   ],
   "metadata": {}
  },
  {
   "cell_type": "code",
   "execution_count": 8,
   "source": [
    "X_train=train.drop('TARGET CLASS',axis=1)"
   ],
   "outputs": [],
   "metadata": {}
  },
  {
   "cell_type": "code",
   "execution_count": 9,
   "source": [
    "Y_train=train[['TARGET CLASS']]"
   ],
   "outputs": [],
   "metadata": {}
  },
  {
   "cell_type": "code",
   "execution_count": 10,
   "source": [
    "X_train=(X_train-X_train.mean(axis=0)/(X_train.max(axis=0)-X_train.min(axis=0)))"
   ],
   "outputs": [],
   "metadata": {}
  },
  {
   "cell_type": "code",
   "execution_count": 11,
   "source": [
    "X_train=np.matrix(X_train)"
   ],
   "outputs": [],
   "metadata": {}
  },
  {
   "cell_type": "code",
   "execution_count": 12,
   "source": [
    "X_train.shape"
   ],
   "outputs": [
    {
     "output_type": "execute_result",
     "data": {
      "text/plain": [
       "(700, 10)"
      ]
     },
     "metadata": {},
     "execution_count": 12
    }
   ],
   "metadata": {}
  },
  {
   "cell_type": "code",
   "execution_count": 13,
   "source": [
    "Y_train=np.matrix(Y_train)"
   ],
   "outputs": [],
   "metadata": {}
  },
  {
   "cell_type": "code",
   "execution_count": 14,
   "source": [
    "Y_train.shape"
   ],
   "outputs": [
    {
     "output_type": "execute_result",
     "data": {
      "text/plain": [
       "(700, 1)"
      ]
     },
     "metadata": {},
     "execution_count": 14
    }
   ],
   "metadata": {}
  },
  {
   "cell_type": "code",
   "execution_count": 15,
   "source": [
    "X_validation=validate.drop('TARGET CLASS',axis=1)"
   ],
   "outputs": [],
   "metadata": {}
  },
  {
   "cell_type": "code",
   "execution_count": 16,
   "source": [
    "Y_validation=validate[['TARGET CLASS']]"
   ],
   "outputs": [],
   "metadata": {}
  },
  {
   "cell_type": "code",
   "execution_count": 17,
   "source": [
    "X_validation=(X_validation-X_validation.mean(axis=0)/(X_validation.max(axis=0)-X_validation.min(axis=0)))"
   ],
   "outputs": [],
   "metadata": {}
  },
  {
   "cell_type": "code",
   "execution_count": 18,
   "source": [
    "X_validation=np.matrix(X_validation)"
   ],
   "outputs": [],
   "metadata": {}
  },
  {
   "cell_type": "code",
   "execution_count": 19,
   "source": [
    "Y_validation=np.matrix(Y_validation)"
   ],
   "outputs": [],
   "metadata": {}
  },
  {
   "cell_type": "code",
   "execution_count": 20,
   "source": [
    "X_validation.shape"
   ],
   "outputs": [
    {
     "output_type": "execute_result",
     "data": {
      "text/plain": [
       "(100, 10)"
      ]
     },
     "metadata": {},
     "execution_count": 20
    }
   ],
   "metadata": {}
  },
  {
   "cell_type": "code",
   "execution_count": 21,
   "source": [
    "Y_validation.shape"
   ],
   "outputs": [
    {
     "output_type": "execute_result",
     "data": {
      "text/plain": [
       "(100, 1)"
      ]
     },
     "metadata": {},
     "execution_count": 21
    }
   ],
   "metadata": {}
  },
  {
   "cell_type": "code",
   "execution_count": 22,
   "source": [
    "def euclidean(a,b):\r\n",
    "    return (np.square(a-b))"
   ],
   "outputs": [],
   "metadata": {}
  },
  {
   "cell_type": "code",
   "execution_count": 23,
   "source": [
    "def distance(a):\r\n",
    "    return (np.sqrt(a))"
   ],
   "outputs": [],
   "metadata": {}
  },
  {
   "cell_type": "code",
   "execution_count": 24,
   "source": [
    "error_rate=[]\r\n",
    "dif=np.zeros(X_train.shape[0]*2).reshape(X_train.shape[0],2)\r\n",
    "for i in range(1,40):\r\n",
    "    top=np.zeros(i)\r\n",
    "    pred=np.zeros(X_validation.shape[0])\r\n",
    "    for h in range(X_validation.shape[0]):\r\n",
    "        sd=0\r\n",
    "        ds=0\r\n",
    "        for j in range(X_train.shape[0]):\r\n",
    "            dif_j=0\r\n",
    "            for g in range(X_validation.shape[1]):\r\n",
    "                dif_j=dif_j+euclidean(X_validation[h,g],X_train[j,g])\r\n",
    "            dif[j,0]=distance(dif_j)\r\n",
    "            dif[j,1]=Y_train[j]\r\n",
    "        dif_sort=dif[np.argsort(dif[:,0])]\r\n",
    "        for d in range(i):\r\n",
    "            top[d]=dif_sort[d,1]\r\n",
    "        for s in range(i):\r\n",
    "            if top[s]==0:\r\n",
    "                sd=sd+1\r\n",
    "            if top[s]==1:\r\n",
    "                ds=ds+1\r\n",
    "        if(sd>ds):\r\n",
    "            pred_i=0\r\n",
    "        else:\r\n",
    "            pred_i=1  \r\n",
    "        if pred_i!=Y_validation[h]:\r\n",
    "            pred[h]=1\r\n",
    "    error_rate.append(np.mean(pred))"
   ],
   "outputs": [],
   "metadata": {}
  },
  {
   "cell_type": "code",
   "execution_count": 25,
   "source": [
    "pred"
   ],
   "outputs": [
    {
     "output_type": "execute_result",
     "data": {
      "text/plain": [
       "array([0., 0., 0., 0., 0., 0., 0., 0., 0., 0., 0., 0., 0., 0., 0., 0., 0.,\n",
       "       0., 1., 0., 0., 0., 0., 0., 0., 0., 0., 0., 0., 0., 0., 0., 0., 0.,\n",
       "       0., 0., 0., 0., 0., 0., 0., 0., 0., 0., 0., 0., 0., 0., 0., 0., 0.,\n",
       "       0., 0., 0., 0., 0., 0., 0., 0., 1., 0., 0., 0., 1., 0., 0., 0., 1.,\n",
       "       0., 0., 0., 0., 1., 0., 0., 0., 0., 0., 0., 0., 0., 0., 1., 0., 0.,\n",
       "       0., 0., 0., 0., 0., 0., 0., 0., 0., 0., 0., 0., 0., 0., 0.])"
      ]
     },
     "metadata": {},
     "execution_count": 25
    }
   ],
   "metadata": {}
  },
  {
   "cell_type": "code",
   "execution_count": 26,
   "source": [
    "plt.figure(figsize=(10,6))\r\n",
    "plt.plot(range(1,40),error_rate,color='blue',linestyle='dashed',marker='o',markerfacecolor='red',markersize=10)\r\n",
    "plt.title('error rate v k value')\r\n",
    "plt.xlabel('k')\r\n",
    "plt.ylabel('error rate')"
   ],
   "outputs": [
    {
     "output_type": "execute_result",
     "data": {
      "text/plain": [
       "Text(0, 0.5, 'error rate')"
      ]
     },
     "metadata": {},
     "execution_count": 26
    },
    {
     "output_type": "display_data",
     "data": {
      "text/plain": [
       "<Figure size 720x432 with 1 Axes>"
      ],
      "image/png": "[encoded data removed]"
     },
     "metadata": {
      "needs_background": "light"
     }
    }
   ],
   "metadata": {}
  },
  {
   "cell_type": "code",
   "execution_count": 27,
   "source": [
    "X_test=test.drop('TARGET CLASS',axis=1)"
   ],
   "outputs": [],
   "metadata": {}
  },
  {
   "cell_type": "code",
   "execution_count": 28,
   "source": [
    "X_test=(X_test-X_test.mean(axis=0)/(X_test.max(axis=0)-X_test.min(axis=0)))"
   ],
   "outputs": [],
   "metadata": {}
  },
  {
   "cell_type": "code",
   "execution_count": 29,
   "source": [
    "X_test=np.matrix(X_test)"
   ],
   "outputs": [],
   "metadata": {}
  },
  {
   "cell_type": "code",
   "execution_count": 30,
   "source": [
    "X_test.shape"
   ],
   "outputs": [
    {
     "output_type": "execute_result",
     "data": {
      "text/plain": [
       "(200, 10)"
      ]
     },
     "metadata": {},
     "execution_count": 30
    }
   ],
   "metadata": {}
  },
  {
   "cell_type": "code",
   "execution_count": 33,
   "source": [
    "Y_test=test[['TARGET CLASS']]"
   ],
   "outputs": [],
   "metadata": {}
  },
  {
   "cell_type": "code",
   "execution_count": 34,
   "source": [
    "Y_test=np.matrix(Y_test)"
   ],
   "outputs": [],
   "metadata": {}
  },
  {
   "cell_type": "code",
   "execution_count": 31,
   "source": [
    "predi=np.zeros(X_test.shape[0])\r\n",
    "dif=np.zeros(X_train.shape[0]*2).reshape(X_train.shape[0],2)\r\n",
    "t=0\r\n",
    "for h in range(X_test.shape[0]):\r\n",
    "    sd=0\r\n",
    "    ds=0\r\n",
    "    for j in range(X_train.shape[0]):\r\n",
    "        dif_j=0\r\n",
    "        for g in range(X_test.shape[1]):\r\n",
    "             dif_j=dif_j+euclidean(X_test[h,g],X_train[j,g])\r\n",
    "        dif[j,0]=distance(dif_j)\r\n",
    "        dif[j,1]=Y_train[j]\r\n",
    "    dif_sort=dif[np.argsort(dif[:,0])]\r\n",
    "    for d in range(25):\r\n",
    "            top[d]=dif_sort[d,1]\r\n",
    "    for s in range(25):\r\n",
    "        if top[s]==0:\r\n",
    "            sd=sd+1\r\n",
    "            if top[s]==1:\r\n",
    "                ds=ds+1\r\n",
    "    if(sd>ds):\r\n",
    "        predi[t]=0\r\n",
    "        t=t+1\r\n",
    "    else: \r\n",
    "        predi[t]=1\r\n",
    "        t=t+1  \r\n",
    "    "
   ],
   "outputs": [],
   "metadata": {}
  },
  {
   "cell_type": "code",
   "execution_count": 32,
   "source": [
    "predi"
   ],
   "outputs": [
    {
     "output_type": "execute_result",
     "data": {
      "text/plain": [
       "array([0., 1., 1., 0., 0., 0., 0., 0., 0., 0., 0., 0., 0., 0., 0., 0., 0.,\n",
       "       0., 1., 0., 0., 0., 0., 1., 0., 0., 1., 0., 0., 1., 0., 0., 0., 0.,\n",
       "       1., 1., 0., 0., 0., 1., 0., 0., 0., 0., 0., 0., 0., 0., 1., 0., 1.,\n",
       "       1., 0., 0., 1., 1., 0., 0., 1., 0., 0., 0., 0., 1., 0., 0., 0., 0.,\n",
       "       0., 0., 0., 0., 0., 0., 0., 1., 0., 0., 0., 0., 1., 1., 1., 0., 0.,\n",
       "       0., 0., 1., 0., 1., 0., 0., 0., 0., 0., 1., 0., 1., 0., 0., 0., 0.,\n",
       "       0., 0., 0., 0., 0., 0., 0., 0., 0., 1., 1., 0., 0., 0., 0., 0., 0.,\n",
       "       0., 0., 1., 0., 0., 0., 0., 0., 1., 0., 0., 0., 0., 0., 0., 1., 0.,\n",
       "       0., 0., 0., 1., 1., 0., 0., 1., 0., 0., 1., 0., 0., 0., 1., 1., 0.,\n",
       "       0., 1., 1., 0., 0., 0., 1., 0., 0., 0., 0., 0., 0., 0., 0., 0., 0.,\n",
       "       0., 0., 0., 0., 1., 0., 0., 0., 1., 0., 0., 0., 0., 0., 0., 1., 0.,\n",
       "       0., 0., 0., 1., 0., 0., 0., 0., 0., 0., 0., 0., 0.])"
      ]
     },
     "metadata": {},
     "execution_count": 32
    }
   ],
   "metadata": {}
  },
  {
   "cell_type": "code",
   "execution_count": 36,
   "source": [
    "correct = [1 if a == b else 0 for (a, b) in zip(predi, Y_test)]\r\n",
    "accuracy = (sum(map(int, correct)) / float(len(correct)))\r\n",
    "print ('accuracy = {0}%'.format(accuracy * 100))"
   ],
   "outputs": [
    {
     "output_type": "stream",
     "name": "stdout",
     "text": [
      "accuracy = 70.5%\n"
     ]
    }
   ],
   "metadata": {}
  }
 ]
}