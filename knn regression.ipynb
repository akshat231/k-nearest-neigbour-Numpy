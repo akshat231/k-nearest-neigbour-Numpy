{
    "cells": [
        {
            "cell_type": "markdown",
            "source": [],
            "metadata": {}
        },
        {
            "cell_type": "code",
            "execution_count": 1,
            "source": [
                "import numpy as np  \r\n",
                "import pandas as pd  \r\n",
                "import matplotlib.pyplot as plt  \r\n",
                "import seaborn as sns"
            ],
            "outputs": [],
            "metadata": {}
        },
        {
            "cell_type": "code",
            "execution_count": 2,
            "source": [
                "df=pd.read_csv(\"diamonds.csv\")"
            ],
            "outputs": [],
            "metadata": {}
        },
        {
            "cell_type": "code",
            "execution_count": 3,
            "source": [
                "df.head()"
            ],
            "outputs": [
                {
                    "output_type": "execute_result",
                    "data": {
                        "text/plain": [
                            "   Unnamed: 0  carat      cut color clarity  depth  table  price     x     y  \\\n",
                            "0           1   0.23    Ideal     E     SI2   61.5   55.0    326  3.95  3.98   \n",
                            "1           2   0.21  Premium     E     SI1   59.8   61.0    326  3.89  3.84   \n",
                            "2           3   0.23     Good     E     VS1   56.9   65.0    327  4.05  4.07   \n",
                            "3           4   0.29  Premium     I     VS2   62.4   58.0    334  4.20  4.23   \n",
                            "4           5   0.31     Good     J     SI2   63.3   58.0    335  4.34  4.35   \n",
                            "\n",
                            "      z  \n",
                            "0  2.43  \n",
                            "1  2.31  \n",
                            "2  2.31  \n",
                            "3  2.63  \n",
                            "4  2.75  "
                        ],
                        "text/html": [
                            "<div>\n",
                            "<style scoped>\n",
                            "    .dataframe tbody tr th:only-of-type {\n",
                            "        vertical-align: middle;\n",
                            "    }\n",
                            "\n",
                            "    .dataframe tbody tr th {\n",
                            "        vertical-align: top;\n",
                            "    }\n",
                            "\n",
                            "    .dataframe thead th {\n",
                            "        text-align: right;\n",
                            "    }\n",
                            "</style>\n",
                            "<table border=\"1\" class=\"dataframe\">\n",
                            "  <thead>\n",
                            "    <tr style=\"text-align: right;\">\n",
                            "      <th></th>\n",
                            "      <th>Unnamed: 0</th>\n",
                            "      <th>carat</th>\n",
                            "      <th>cut</th>\n",
                            "      <th>color</th>\n",
                            "      <th>clarity</th>\n",
                            "      <th>depth</th>\n",
                            "      <th>table</th>\n",
                            "      <th>price</th>\n",
                            "      <th>x</th>\n",
                            "      <th>y</th>\n",
                            "      <th>z</th>\n",
                            "    </tr>\n",
                            "  </thead>\n",
                            "  <tbody>\n",
                            "    <tr>\n",
                            "      <th>0</th>\n",
                            "      <td>1</td>\n",
                            "      <td>0.23</td>\n",
                            "      <td>Ideal</td>\n",
                            "      <td>E</td>\n",
                            "      <td>SI2</td>\n",
                            "      <td>61.5</td>\n",
                            "      <td>55.0</td>\n",
                            "      <td>326</td>\n",
                            "      <td>3.95</td>\n",
                            "      <td>3.98</td>\n",
                            "      <td>2.43</td>\n",
                            "    </tr>\n",
                            "    <tr>\n",
                            "      <th>1</th>\n",
                            "      <td>2</td>\n",
                            "      <td>0.21</td>\n",
                            "      <td>Premium</td>\n",
                            "      <td>E</td>\n",
                            "      <td>SI1</td>\n",
                            "      <td>59.8</td>\n",
                            "      <td>61.0</td>\n",
                            "      <td>326</td>\n",
                            "      <td>3.89</td>\n",
                            "      <td>3.84</td>\n",
                            "      <td>2.31</td>\n",
                            "    </tr>\n",
                            "    <tr>\n",
                            "      <th>2</th>\n",
                            "      <td>3</td>\n",
                            "      <td>0.23</td>\n",
                            "      <td>Good</td>\n",
                            "      <td>E</td>\n",
                            "      <td>VS1</td>\n",
                            "      <td>56.9</td>\n",
                            "      <td>65.0</td>\n",
                            "      <td>327</td>\n",
                            "      <td>4.05</td>\n",
                            "      <td>4.07</td>\n",
                            "      <td>2.31</td>\n",
                            "    </tr>\n",
                            "    <tr>\n",
                            "      <th>3</th>\n",
                            "      <td>4</td>\n",
                            "      <td>0.29</td>\n",
                            "      <td>Premium</td>\n",
                            "      <td>I</td>\n",
                            "      <td>VS2</td>\n",
                            "      <td>62.4</td>\n",
                            "      <td>58.0</td>\n",
                            "      <td>334</td>\n",
                            "      <td>4.20</td>\n",
                            "      <td>4.23</td>\n",
                            "      <td>2.63</td>\n",
                            "    </tr>\n",
                            "    <tr>\n",
                            "      <th>4</th>\n",
                            "      <td>5</td>\n",
                            "      <td>0.31</td>\n",
                            "      <td>Good</td>\n",
                            "      <td>J</td>\n",
                            "      <td>SI2</td>\n",
                            "      <td>63.3</td>\n",
                            "      <td>58.0</td>\n",
                            "      <td>335</td>\n",
                            "      <td>4.34</td>\n",
                            "      <td>4.35</td>\n",
                            "      <td>2.75</td>\n",
                            "    </tr>\n",
                            "  </tbody>\n",
                            "</table>\n",
                            "</div>"
                        ]
                    },
                    "metadata": {},
                    "execution_count": 3
                }
            ],
            "metadata": {}
        },
        {
            "cell_type": "code",
            "execution_count": 4,
            "source": [
                "df=df.head(3000)"
            ],
            "outputs": [],
            "metadata": {}
        },
        {
            "cell_type": "code",
            "execution_count": 5,
            "source": [
                "df.shape"
            ],
            "outputs": [
                {
                    "output_type": "execute_result",
                    "data": {
                        "text/plain": [
                            "(3000, 11)"
                        ]
                    },
                    "metadata": {},
                    "execution_count": 5
                }
            ],
            "metadata": {}
        },
        {
            "cell_type": "code",
            "execution_count": 6,
            "source": [
                "df=df.dropna()"
            ],
            "outputs": [],
            "metadata": {}
        },
        {
            "cell_type": "code",
            "execution_count": 7,
            "source": [
                "df.shape"
            ],
            "outputs": [
                {
                    "output_type": "execute_result",
                    "data": {
                        "text/plain": [
                            "(3000, 11)"
                        ]
                    },
                    "metadata": {},
                    "execution_count": 7
                }
            ],
            "metadata": {}
        },
        {
            "cell_type": "code",
            "execution_count": 8,
            "source": [
                "cut=pd.get_dummies(df['cut'],drop_first=True)"
            ],
            "outputs": [],
            "metadata": {}
        },
        {
            "cell_type": "code",
            "execution_count": 9,
            "source": [
                "color=pd.get_dummies(df['color'],drop_first=True)"
            ],
            "outputs": [],
            "metadata": {}
        },
        {
            "cell_type": "code",
            "execution_count": 10,
            "source": [
                " clarity=pd.get_dummies(df['clarity'],drop_first=True)"
            ],
            "outputs": [],
            "metadata": {}
        },
        {
            "cell_type": "code",
            "execution_count": 11,
            "source": [
                "df=pd.concat([df,cut,color,clarity],axis=1)"
            ],
            "outputs": [],
            "metadata": {}
        },
        {
            "cell_type": "code",
            "execution_count": 12,
            "source": [
                "df=df.drop(['cut','color','Unnamed: 0','clarity'],axis=1)"
            ],
            "outputs": [],
            "metadata": {}
        },
        {
            "cell_type": "code",
            "execution_count": 13,
            "source": [
                "df.head()"
            ],
            "outputs": [
                {
                    "output_type": "execute_result",
                    "data": {
                        "text/plain": [
                            "   carat  depth  table  price     x     y     z  Good  Ideal  Premium  ...  H  \\\n",
                            "0   0.23   61.5   55.0    326  3.95  3.98  2.43     0      1        0  ...  0   \n",
                            "1   0.21   59.8   61.0    326  3.89  3.84  2.31     0      0        1  ...  0   \n",
                            "2   0.23   56.9   65.0    327  4.05  4.07  2.31     1      0        0  ...  0   \n",
                            "3   0.29   62.4   58.0    334  4.20  4.23  2.63     0      0        1  ...  0   \n",
                            "4   0.31   63.3   58.0    335  4.34  4.35  2.75     1      0        0  ...  0   \n",
                            "\n",
                            "   I  J  IF  SI1  SI2  VS1  VS2  VVS1  VVS2  \n",
                            "0  0  0   0    0    1    0    0     0     0  \n",
                            "1  0  0   0    1    0    0    0     0     0  \n",
                            "2  0  0   0    0    0    1    0     0     0  \n",
                            "3  1  0   0    0    0    0    1     0     0  \n",
                            "4  0  1   0    0    1    0    0     0     0  \n",
                            "\n",
                            "[5 rows x 24 columns]"
                        ],
                        "text/html": [
                            "<div>\n",
                            "<style scoped>\n",
                            "    .dataframe tbody tr th:only-of-type {\n",
                            "        vertical-align: middle;\n",
                            "    }\n",
                            "\n",
                            "    .dataframe tbody tr th {\n",
                            "        vertical-align: top;\n",
                            "    }\n",
                            "\n",
                            "    .dataframe thead th {\n",
                            "        text-align: right;\n",
                            "    }\n",
                            "</style>\n",
                            "<table border=\"1\" class=\"dataframe\">\n",
                            "  <thead>\n",
                            "    <tr style=\"text-align: right;\">\n",
                            "      <th></th>\n",
                            "      <th>carat</th>\n",
                            "      <th>depth</th>\n",
                            "      <th>table</th>\n",
                            "      <th>price</th>\n",
                            "      <th>x</th>\n",
                            "      <th>y</th>\n",
                            "      <th>z</th>\n",
                            "      <th>Good</th>\n",
                            "      <th>Ideal</th>\n",
                            "      <th>Premium</th>\n",
                            "      <th>...</th>\n",
                            "      <th>H</th>\n",
                            "      <th>I</th>\n",
                            "      <th>J</th>\n",
                            "      <th>IF</th>\n",
                            "      <th>SI1</th>\n",
                            "      <th>SI2</th>\n",
                            "      <th>VS1</th>\n",
                            "      <th>VS2</th>\n",
                            "      <th>VVS1</th>\n",
                            "      <th>VVS2</th>\n",
                            "    </tr>\n",
                            "  </thead>\n",
                            "  <tbody>\n",
                            "    <tr>\n",
                            "      <th>0</th>\n",
                            "      <td>0.23</td>\n",
                            "      <td>61.5</td>\n",
                            "      <td>55.0</td>\n",
                            "      <td>326</td>\n",
                            "      <td>3.95</td>\n",
                            "      <td>3.98</td>\n",
                            "      <td>2.43</td>\n",
                            "      <td>0</td>\n",
                            "      <td>1</td>\n",
                            "      <td>0</td>\n",
                            "      <td>...</td>\n",
                            "      <td>0</td>\n",
                            "      <td>0</td>\n",
                            "      <td>0</td>\n",
                            "      <td>0</td>\n",
                            "      <td>0</td>\n",
                            "      <td>1</td>\n",
                            "      <td>0</td>\n",
                            "      <td>0</td>\n",
                            "      <td>0</td>\n",
                            "      <td>0</td>\n",
                            "    </tr>\n",
                            "    <tr>\n",
                            "      <th>1</th>\n",
                            "      <td>0.21</td>\n",
                            "      <td>59.8</td>\n",
                            "      <td>61.0</td>\n",
                            "      <td>326</td>\n",
                            "      <td>3.89</td>\n",
                            "      <td>3.84</td>\n",
                            "      <td>2.31</td>\n",
                            "      <td>0</td>\n",
                            "      <td>0</td>\n",
                            "      <td>1</td>\n",
                            "      <td>...</td>\n",
                            "      <td>0</td>\n",
                            "      <td>0</td>\n",
                            "      <td>0</td>\n",
                            "      <td>0</td>\n",
                            "      <td>1</td>\n",
                            "      <td>0</td>\n",
                            "      <td>0</td>\n",
                            "      <td>0</td>\n",
                            "      <td>0</td>\n",
                            "      <td>0</td>\n",
                            "    </tr>\n",
                            "    <tr>\n",
                            "      <th>2</th>\n",
                            "      <td>0.23</td>\n",
                            "      <td>56.9</td>\n",
                            "      <td>65.0</td>\n",
                            "      <td>327</td>\n",
                            "      <td>4.05</td>\n",
                            "      <td>4.07</td>\n",
                            "      <td>2.31</td>\n",
                            "      <td>1</td>\n",
                            "      <td>0</td>\n",
                            "      <td>0</td>\n",
                            "      <td>...</td>\n",
                            "      <td>0</td>\n",
                            "      <td>0</td>\n",
                            "      <td>0</td>\n",
                            "      <td>0</td>\n",
                            "      <td>0</td>\n",
                            "      <td>0</td>\n",
                            "      <td>1</td>\n",
                            "      <td>0</td>\n",
                            "      <td>0</td>\n",
                            "      <td>0</td>\n",
                            "    </tr>\n",
                            "    <tr>\n",
                            "      <th>3</th>\n",
                            "      <td>0.29</td>\n",
                            "      <td>62.4</td>\n",
                            "      <td>58.0</td>\n",
                            "      <td>334</td>\n",
                            "      <td>4.20</td>\n",
                            "      <td>4.23</td>\n",
                            "      <td>2.63</td>\n",
                            "      <td>0</td>\n",
                            "      <td>0</td>\n",
                            "      <td>1</td>\n",
                            "      <td>...</td>\n",
                            "      <td>0</td>\n",
                            "      <td>1</td>\n",
                            "      <td>0</td>\n",
                            "      <td>0</td>\n",
                            "      <td>0</td>\n",
                            "      <td>0</td>\n",
                            "      <td>0</td>\n",
                            "      <td>1</td>\n",
                            "      <td>0</td>\n",
                            "      <td>0</td>\n",
                            "    </tr>\n",
                            "    <tr>\n",
                            "      <th>4</th>\n",
                            "      <td>0.31</td>\n",
                            "      <td>63.3</td>\n",
                            "      <td>58.0</td>\n",
                            "      <td>335</td>\n",
                            "      <td>4.34</td>\n",
                            "      <td>4.35</td>\n",
                            "      <td>2.75</td>\n",
                            "      <td>1</td>\n",
                            "      <td>0</td>\n",
                            "      <td>0</td>\n",
                            "      <td>...</td>\n",
                            "      <td>0</td>\n",
                            "      <td>0</td>\n",
                            "      <td>1</td>\n",
                            "      <td>0</td>\n",
                            "      <td>0</td>\n",
                            "      <td>1</td>\n",
                            "      <td>0</td>\n",
                            "      <td>0</td>\n",
                            "      <td>0</td>\n",
                            "      <td>0</td>\n",
                            "    </tr>\n",
                            "  </tbody>\n",
                            "</table>\n",
                            "<p>5 rows × 24 columns</p>\n",
                            "</div>"
                        ]
                    },
                    "metadata": {},
                    "execution_count": 13
                }
            ],
            "metadata": {}
        },
        {
            "cell_type": "code",
            "execution_count": 14,
            "source": [
                "from sklearn.preprocessing import StandardScaler\r\n",
                "from sklearn.model_selection import train_test_split"
            ],
            "outputs": [],
            "metadata": {}
        },
        {
            "cell_type": "code",
            "execution_count": 18,
            "source": [
                "scaler=StandardScaler()"
            ],
            "outputs": [],
            "metadata": {}
        },
        {
            "cell_type": "code",
            "execution_count": 19,
            "source": [
                "scaler.fit(df.drop('price',axis=1))"
            ],
            "outputs": [
                {
                    "output_type": "execute_result",
                    "data": {
                        "text/plain": [
                            "StandardScaler()"
                        ]
                    },
                    "metadata": {},
                    "execution_count": 19
                }
            ],
            "metadata": {}
        },
        {
            "cell_type": "code",
            "execution_count": 20,
            "source": [
                "scaled_feature=scaler.transform(df.drop('price',axis=1))"
            ],
            "outputs": [],
            "metadata": {}
        },
        {
            "cell_type": "code",
            "execution_count": 21,
            "source": [
                "scaled_feature"
            ],
            "outputs": [
                {
                    "output_type": "execute_result",
                    "data": {
                        "text/plain": [
                            "array([[-2.65501342, -0.20048033, -1.09744371, ..., -0.55167728,\n",
                            "        -0.24279232, -0.2708233 ],\n",
                            "       [-2.76056866, -1.23179938,  1.44316396, ..., -0.55167728,\n",
                            "        -0.24279232, -0.2708233 ],\n",
                            "       [-2.65501342, -2.99110833,  3.1369024 , ..., -0.55167728,\n",
                            "        -0.24279232, -0.2708233 ],\n",
                            "       ...,\n",
                            "       [ 0.8810872 ,  0.95217036,  0.59629473, ..., -0.55167728,\n",
                            "        -0.24279232, -0.2708233 ],\n",
                            "       [ 0.8810872 , -1.59579433, -0.25057449, ..., -0.55167728,\n",
                            "        -0.24279232, -0.2708233 ],\n",
                            "       [ 0.8810872 ,  1.19483367, -0.6740091 , ..., -0.55167728,\n",
                            "        -0.24279232, -0.2708233 ]])"
                        ]
                    },
                    "metadata": {},
                    "execution_count": 21
                }
            ],
            "metadata": {}
        },
        {
            "cell_type": "code",
            "execution_count": 22,
            "source": [
                "features=pd.DataFrame(scaled_feature,columns=df.columns[:-1])"
            ],
            "outputs": [],
            "metadata": {}
        },
        {
            "cell_type": "code",
            "execution_count": 23,
            "source": [
                "features.head()"
            ],
            "outputs": [
                {
                    "output_type": "execute_result",
                    "data": {
                        "text/plain": [
                            "      carat     depth     table     price         x         y         z  \\\n",
                            "0 -2.655013 -0.200480 -1.097444 -3.108424 -3.122654 -2.982019 -0.333333   \n",
                            "1 -2.760569 -1.231799  1.443164 -3.213538 -3.373187 -3.305336 -0.333333   \n",
                            "2 -2.655013 -2.991108  3.136902 -2.933233 -2.961597 -3.305336  3.000000   \n",
                            "3 -2.338348  0.345512  0.172860 -2.670447 -2.675273 -2.443156 -0.333333   \n",
                            "4 -2.232792  0.891505  0.172860 -2.425180 -2.460530 -2.119839  3.000000   \n",
                            "\n",
                            "       Good     Ideal   Premium  ...         G         H         I         J  \\\n",
                            "0  1.280955 -0.530053 -0.561951  ... -0.400116 -0.314485 -0.224544 -0.127515   \n",
                            "1 -0.780668  1.886603 -0.561951  ... -0.400116 -0.314485 -0.224544 -0.127515   \n",
                            "2 -0.780668 -0.530053 -0.561951  ... -0.400116 -0.314485 -0.224544 -0.127515   \n",
                            "3 -0.780668  1.886603 -0.561951  ... -0.400116  3.179797 -0.224544 -0.127515   \n",
                            "4 -0.780668 -0.530053 -0.561951  ... -0.400116 -0.314485  4.453463 -0.127515   \n",
                            "\n",
                            "         IF       SI1      SI2       VS1       VS2      VVS1  \n",
                            "0 -0.572218  2.171241 -0.45897 -0.551677 -0.242792 -0.270823  \n",
                            "1  1.747585 -0.460566 -0.45897 -0.551677 -0.242792 -0.270823  \n",
                            "2 -0.572218 -0.460566  2.17879 -0.551677 -0.242792 -0.270823  \n",
                            "3 -0.572218 -0.460566 -0.45897  1.812654 -0.242792 -0.270823  \n",
                            "4 -0.572218  2.171241 -0.45897 -0.551677 -0.242792 -0.270823  \n",
                            "\n",
                            "[5 rows x 23 columns]"
                        ],
                        "text/html": [
                            "<div>\n",
                            "<style scoped>\n",
                            "    .dataframe tbody tr th:only-of-type {\n",
                            "        vertical-align: middle;\n",
                            "    }\n",
                            "\n",
                            "    .dataframe tbody tr th {\n",
                            "        vertical-align: top;\n",
                            "    }\n",
                            "\n",
                            "    .dataframe thead th {\n",
                            "        text-align: right;\n",
                            "    }\n",
                            "</style>\n",
                            "<table border=\"1\" class=\"dataframe\">\n",
                            "  <thead>\n",
                            "    <tr style=\"text-align: right;\">\n",
                            "      <th></th>\n",
                            "      <th>carat</th>\n",
                            "      <th>depth</th>\n",
                            "      <th>table</th>\n",
                            "      <th>price</th>\n",
                            "      <th>x</th>\n",
                            "      <th>y</th>\n",
                            "      <th>z</th>\n",
                            "      <th>Good</th>\n",
                            "      <th>Ideal</th>\n",
                            "      <th>Premium</th>\n",
                            "      <th>...</th>\n",
                            "      <th>G</th>\n",
                            "      <th>H</th>\n",
                            "      <th>I</th>\n",
                            "      <th>J</th>\n",
                            "      <th>IF</th>\n",
                            "      <th>SI1</th>\n",
                            "      <th>SI2</th>\n",
                            "      <th>VS1</th>\n",
                            "      <th>VS2</th>\n",
                            "      <th>VVS1</th>\n",
                            "    </tr>\n",
                            "  </thead>\n",
                            "  <tbody>\n",
                            "    <tr>\n",
                            "      <th>0</th>\n",
                            "      <td>-2.655013</td>\n",
                            "      <td>-0.200480</td>\n",
                            "      <td>-1.097444</td>\n",
                            "      <td>-3.108424</td>\n",
                            "      <td>-3.122654</td>\n",
                            "      <td>-2.982019</td>\n",
                            "      <td>-0.333333</td>\n",
                            "      <td>1.280955</td>\n",
                            "      <td>-0.530053</td>\n",
                            "      <td>-0.561951</td>\n",
                            "      <td>...</td>\n",
                            "      <td>-0.400116</td>\n",
                            "      <td>-0.314485</td>\n",
                            "      <td>-0.224544</td>\n",
                            "      <td>-0.127515</td>\n",
                            "      <td>-0.572218</td>\n",
                            "      <td>2.171241</td>\n",
                            "      <td>-0.45897</td>\n",
                            "      <td>-0.551677</td>\n",
                            "      <td>-0.242792</td>\n",
                            "      <td>-0.270823</td>\n",
                            "    </tr>\n",
                            "    <tr>\n",
                            "      <th>1</th>\n",
                            "      <td>-2.760569</td>\n",
                            "      <td>-1.231799</td>\n",
                            "      <td>1.443164</td>\n",
                            "      <td>-3.213538</td>\n",
                            "      <td>-3.373187</td>\n",
                            "      <td>-3.305336</td>\n",
                            "      <td>-0.333333</td>\n",
                            "      <td>-0.780668</td>\n",
                            "      <td>1.886603</td>\n",
                            "      <td>-0.561951</td>\n",
                            "      <td>...</td>\n",
                            "      <td>-0.400116</td>\n",
                            "      <td>-0.314485</td>\n",
                            "      <td>-0.224544</td>\n",
                            "      <td>-0.127515</td>\n",
                            "      <td>1.747585</td>\n",
                            "      <td>-0.460566</td>\n",
                            "      <td>-0.45897</td>\n",
                            "      <td>-0.551677</td>\n",
                            "      <td>-0.242792</td>\n",
                            "      <td>-0.270823</td>\n",
                            "    </tr>\n",
                            "    <tr>\n",
                            "      <th>2</th>\n",
                            "      <td>-2.655013</td>\n",
                            "      <td>-2.991108</td>\n",
                            "      <td>3.136902</td>\n",
                            "      <td>-2.933233</td>\n",
                            "      <td>-2.961597</td>\n",
                            "      <td>-3.305336</td>\n",
                            "      <td>3.000000</td>\n",
                            "      <td>-0.780668</td>\n",
                            "      <td>-0.530053</td>\n",
                            "      <td>-0.561951</td>\n",
                            "      <td>...</td>\n",
                            "      <td>-0.400116</td>\n",
                            "      <td>-0.314485</td>\n",
                            "      <td>-0.224544</td>\n",
                            "      <td>-0.127515</td>\n",
                            "      <td>-0.572218</td>\n",
                            "      <td>-0.460566</td>\n",
                            "      <td>2.17879</td>\n",
                            "      <td>-0.551677</td>\n",
                            "      <td>-0.242792</td>\n",
                            "      <td>-0.270823</td>\n",
                            "    </tr>\n",
                            "    <tr>\n",
                            "      <th>3</th>\n",
                            "      <td>-2.338348</td>\n",
                            "      <td>0.345512</td>\n",
                            "      <td>0.172860</td>\n",
                            "      <td>-2.670447</td>\n",
                            "      <td>-2.675273</td>\n",
                            "      <td>-2.443156</td>\n",
                            "      <td>-0.333333</td>\n",
                            "      <td>-0.780668</td>\n",
                            "      <td>1.886603</td>\n",
                            "      <td>-0.561951</td>\n",
                            "      <td>...</td>\n",
                            "      <td>-0.400116</td>\n",
                            "      <td>3.179797</td>\n",
                            "      <td>-0.224544</td>\n",
                            "      <td>-0.127515</td>\n",
                            "      <td>-0.572218</td>\n",
                            "      <td>-0.460566</td>\n",
                            "      <td>-0.45897</td>\n",
                            "      <td>1.812654</td>\n",
                            "      <td>-0.242792</td>\n",
                            "      <td>-0.270823</td>\n",
                            "    </tr>\n",
                            "    <tr>\n",
                            "      <th>4</th>\n",
                            "      <td>-2.232792</td>\n",
                            "      <td>0.891505</td>\n",
                            "      <td>0.172860</td>\n",
                            "      <td>-2.425180</td>\n",
                            "      <td>-2.460530</td>\n",
                            "      <td>-2.119839</td>\n",
                            "      <td>3.000000</td>\n",
                            "      <td>-0.780668</td>\n",
                            "      <td>-0.530053</td>\n",
                            "      <td>-0.561951</td>\n",
                            "      <td>...</td>\n",
                            "      <td>-0.400116</td>\n",
                            "      <td>-0.314485</td>\n",
                            "      <td>4.453463</td>\n",
                            "      <td>-0.127515</td>\n",
                            "      <td>-0.572218</td>\n",
                            "      <td>2.171241</td>\n",
                            "      <td>-0.45897</td>\n",
                            "      <td>-0.551677</td>\n",
                            "      <td>-0.242792</td>\n",
                            "      <td>-0.270823</td>\n",
                            "    </tr>\n",
                            "  </tbody>\n",
                            "</table>\n",
                            "<p>5 rows × 23 columns</p>\n",
                            "</div>"
                        ]
                    },
                    "metadata": {},
                    "execution_count": 23
                }
            ],
            "metadata": {}
        },
        {
            "cell_type": "code",
            "execution_count": 24,
            "source": [
                "from sklearn.model_selection import train_test_split"
            ],
            "outputs": [],
            "metadata": {}
        },
        {
            "cell_type": "code",
            "execution_count": 26,
            "source": [
                "X_train, X_test, y_train, y_test = train_test_split(features, df['price'], test_size=0.33, random_state=42)"
            ],
            "outputs": [],
            "metadata": {}
        },
        {
            "cell_type": "code",
            "execution_count": 27,
            "source": [
                "from sklearn.neighbors import KNeighborsRegressor"
            ],
            "outputs": [],
            "metadata": {}
        },
        {
            "cell_type": "code",
            "execution_count": 31,
            "source": [
                "error_rate=[]\r\n",
                "for i in range(1,100):\r\n",
                "    knn=KNeighborsRegressor(n_neighbors=i)\r\n",
                "    knn.fit(X_train,y_train)\r\n",
                "    pred_i=knn.predict(X_test)\r\n",
                "    error_rate.append(np.mean(pred_i!=y_test))"
            ],
            "outputs": [],
            "metadata": {}
        },
        {
            "cell_type": "code",
            "execution_count": 33,
            "source": [
                "plt.figure(figsize=(10,6))\r\n",
                "plt.plot(range(1,100),error_rate,color='blue',linestyle='dashed',marker='o',markerfacecolor='red',markersize=10)\r\n",
                "plt.title('error rate v k value')\r\n",
                "plt.xlabel('k')\r\n",
                "plt.ylabel('error rate')"
            ],
            "outputs": [
                {
                    "output_type": "execute_result",
                    "data": {
                        "text/plain": [
                            "Text(0, 0.5, 'error rate')"
                        ]
                    },
                    "metadata": {},
                    "execution_count": 33
                },
                {
                    "output_type": "display_data",
                    "data": {
                        "text/plain": [
                            "<Figure size 720x432 with 1 Axes>"
                        ],
                        "image/png": "[encoded data removed]"
                    },
                    "metadata": {
                        "needs_background": "light"
                    }
                }
            ],
            "metadata": {}
        },
        {
            "cell_type": "code",
            "execution_count": 44,
            "source": [
                "knn=KNeighborsRegressor(n_neighbors=1)\r\n",
                "knn.fit(X_train,y_train)\r\n",
                "pred=knn.predict(X_test)"
            ],
            "outputs": [],
            "metadata": {}
        },
        {
            "cell_type": "code",
            "execution_count": 46,
            "source": [
                "correct = [1 if a- b<300 else 0 for (a, b) in zip(pred, y_test)]\r\n",
                "accuracy = (sum(map(int, correct)) / float(len(correct)))\r\n",
                "print ('accuracy = {0}%'.format(accuracy * 100))"
            ],
            "outputs": [
                {
                    "output_type": "stream",
                    "name": "stdout",
                    "text": [
                        "accuracy = 93.73737373737374%\n"
                    ]
                }
            ],
            "metadata": {}
        }
    ],
    "metadata": {
        "orig_nbformat": 4,
        "language_info": {
            "name": "python",
            "version": "3.9.5",
            "mimetype": "text/x-python",
            "codemirror_mode": {
                "name": "ipython",
                "version": 3
            },
            "pygments_lexer": "ipython3",
            "nbconvert_exporter": "python",
            "file_extension": ".py"
        },
        "kernelspec": {
            "name": "python3",
            "display_name": "Python 3.9.5 64-bit"
        },
        "interpreter": {
            "hash": "33dc6d49505b4536b6a128d9d7c879e1fa44477ad44947bbbe73093067fe6393"
        }
    },
    "nbformat": 4,
    "nbformat_minor": 2
}